{
 "cells": [
  {
   "cell_type": "code",
   "execution_count": 1,
   "metadata": {},
   "outputs": [],
   "source": [
    "import pandas as pd\n",
    "import numpy as np\n",
    "import matplotlib.pyplot as plt\n",
    "%matplotlib inline\n",
    "import seaborn as sns"
   ]
  },
  {
   "cell_type": "code",
   "execution_count": 2,
   "metadata": {},
   "outputs": [],
   "source": [
    "def prepare_resuls_for_plot(df):\n",
    "    df.drop(\"Support\", axis=1, inplace=True)\n",
    "    df[\"Specificity\"] = df.iloc[1::2][\"Recall\"]\n",
    "    df[\"Specificity\"] = df[\"Specificity\"].shift(-1)\n",
    "    return df.iloc[0::2]"
   ]
  },
  {
   "cell_type": "code",
   "execution_count": 4,
   "metadata": {},
   "outputs": [
    {
     "data": {
      "image/png": "[encoded data removed]",
      "text/plain": [
       "<Figure size 1152x432 with 3 Axes>"
      ]
     },
     "metadata": {
      "needs_background": "light"
     },
     "output_type": "display_data"
    }
   ],
   "source": [
    "sizes_string = [10, 25 ,75]\n",
    "\n",
    "#For plotting all results together\n",
    "fig, axes = plt.subplots(1, len(sizes_string), figsize=(16,6), sharey=True)\n",
    "\n",
    "for k, str_size in enumerate(sizes_string):    \n",
    "    name = \"../Datasets/change_of_context/results_LSTM_random_pos_size_\"+str(str_size)+\".csv\"\n",
    "    \n",
    "    #Make single plot of results\n",
    "    df = (pd.read_csv(name, header=None,\n",
    "                   names=[\"F1\", \"Precision\", \"Recall\", \"Support\"]).\n",
    "          pipe(prepare_resuls_for_plot))\n",
    "    sns.boxplot(data=df.iloc[:,0:4], ax=axes[k], palette=\"husl\", showfliers = False)\n",
    "    axes[k].set_title('LSTM_ctu19_random_string_size_'+str(str_size),fontweight=\"bold\")\n",
    "\n",
    "#Show all the runs    \n",
    "plt.show()"
   ]
  },
  {
   "cell_type": "code",
   "execution_count": 6,
   "metadata": {},
   "outputs": [],
   "source": [
    "sizes_string = [10, 25 ,75, 100, 500 1000]\n",
    "\n",
    "#For plotting all results together\n",
    "fig, axes = plt.subplots(1, len(sizes_string), figsize=(25,6), sharey=True)\n",
    "\n",
    "for k, str_size in enumerate(sizes_string):    \n",
    "    name = \"../Datasets/change_of_context/results_LSTM_size_\"+str(str_size)+\".csv\"\n",
    "    \n",
    "    #Make single plot of results\n",
    "    df = (pd.read_csv(name, header=None,names=[\"F1\", \"Precision\", \"Recall\", \"Support\"])\n",
    "          .pipe(prepare_resuls_for_plot))\n",
    "    sns.boxplot(data=df.iloc[:,0:4], ax=axes[k], palette=\"husl\", showfliers = False)\n",
    "    axes[k].set_title('LSTM_ctu19_string_size_'+str(str_size),fontweight=\"bold\")\n",
    "\n",
    "#Show all the runs    \n",
    "plt.show()"
   ]
  },
  {
   "cell_type": "code",
   "execution_count": null,
   "metadata": {},
   "outputs": [],
   "source": []
  }
 ],
 "metadata": {
  "kernelspec": {
   "display_name": "Python 3",
   "language": "python",
   "name": "python3"
  },
  "language_info": {
   "codemirror_mode": {
    "name": "ipython",
    "version": 3
   },
   "file_extension": ".py",
   "mimetype": "text/x-python",
   "name": "python",
   "nbconvert_exporter": "python",
   "pygments_lexer": "ipython3",
   "version": "3.7.3"
  }
 },
 "nbformat": 4,
 "nbformat_minor": 4
}
