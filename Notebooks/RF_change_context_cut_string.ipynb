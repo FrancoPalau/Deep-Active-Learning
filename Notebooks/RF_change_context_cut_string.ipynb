{
 "cells": [
  {
   "cell_type": "code",
   "execution_count": 1,
   "metadata": {},
   "outputs": [],
   "source": [
    "import pandas as pd\n",
    "import numpy as np\n",
    "import matplotlib.pyplot as plt\n",
    "%matplotlib inline\n",
    "import seaborn as sns\n",
    "from sklearn.model_selection import train_test_split\n",
    "from sklearn.ensemble import RandomForestClassifier\n",
    "from sklearn.metrics import classification_report,confusion_matrix\n",
    "from random import randint"
   ]
  },
  {
   "cell_type": "code",
   "execution_count": 2,
   "metadata": {},
   "outputs": [],
   "source": [
    "def change_class(x):\n",
    "    if x == \"botnet\":\n",
    "        return 1\n",
    "    elif x== \"normal\":\n",
    "        return 0\n",
    "\n",
    "    \n",
    "def rename_ctu19_string_col(df):\n",
    "    return df.rename({\"domain\":\"State\"},axis=1)\n",
    "    \n",
    "\n",
    "def drop_columns_ctu19(df):\n",
    "    return df.drop([\"modelsize\",\"State\"], axis=1)\n",
    "\n",
    "\n",
    "def feature_vector(ctu_13):\n",
    "    #Periodicity\n",
    "    ctu_13[\"strong_p\"] = ctu_13[\"State\"].str.count('[a-i]')\n",
    "    ctu_13[\"weak_p\"] = ctu_13[\"State\"].str.count('[A-I]')\n",
    "    ctu_13[\"weak_np\"] = ctu_13[\"State\"].str.count('[r-z]')\n",
    "    ctu_13[\"strong_np\"] = ctu_13[\"State\"].str.count('[R-Z]')\n",
    "    #Duration\n",
    "    ctu_13[\"duration_s\"] = ctu_13[\"State\"].str.count('(a|A|r|R|1|d|D|u|U|4|g|G|x|X|7)')\n",
    "    ctu_13[\"duration_m\"] = ctu_13[\"State\"].str.count('(b|B|s|S|2|e|E|v|V|5|h|H|y|Y|8)')\n",
    "    ctu_13[\"duration_l\"] = ctu_13[\"State\"].str.count('(c|C|t|T|3|f|F|w|W|6|i|I|z|Z|9)')\n",
    "    #Size\n",
    "    ctu_13[\"size_s\"] = ctu_13[\"State\"].str.count('[a-c]') + \\\n",
    "                        ctu_13[\"State\"].str.count('[A-C]') + \\\n",
    "                        ctu_13[\"State\"].str.count('[r-t]') + \\\n",
    "                        ctu_13[\"State\"].str.count('[R-T]') + \\\n",
    "                        ctu_13[\"State\"].str.count('[1-3]')\n",
    "    ctu_13[\"size_m\"] = ctu_13[\"State\"].str.count('[d-f]') + \\\n",
    "                        ctu_13[\"State\"].str.count('[D-F]') + \\\n",
    "                        ctu_13[\"State\"].str.count('[u-w]') + \\\n",
    "                        ctu_13[\"State\"].str.count('[U-W]') + \\\n",
    "                        ctu_13[\"State\"].str.count('[4-6]')\n",
    "    ctu_13[\"size_l\"] = ctu_13[\"State\"].str.count('[g-i]') + \\\n",
    "                        ctu_13[\"State\"].str.count('[G-I]') + \\\n",
    "                        ctu_13[\"State\"].str.count('[x-z]') + \\\n",
    "                        ctu_13[\"State\"].str.count('[X-Z]') + \\\n",
    "                        ctu_13[\"State\"].str.count('[7-9]')\n",
    "    #Periodicity %\n",
    "    ctu_13[\"strong_p\"] = ctu_13[\"strong_p\"]/ctu_13[\"modelsize\"]\n",
    "    ctu_13[\"weak_p\"] = ctu_13[\"weak_p\"]/ctu_13[\"modelsize\"]\n",
    "    ctu_13[\"strong_np\"] = ctu_13[\"strong_np\"]/ctu_13[\"modelsize\"]\n",
    "    ctu_13[\"weak_np\"] = ctu_13[\"weak_np\"]/ctu_13[\"modelsize\"]\n",
    "    #Duration %\n",
    "    ctu_13[\"duration_s\"] = ctu_13[\"duration_s\"]/ctu_13[\"modelsize\"]\n",
    "    ctu_13[\"duration_m\"] = ctu_13[\"duration_m\"]/ctu_13[\"modelsize\"]\n",
    "    ctu_13[\"duration_l\"] = ctu_13[\"duration_l\"]/ctu_13[\"modelsize\"]\n",
    "    #Size %\n",
    "    ctu_13[\"size_s\"] = ctu_13[\"size_s\"]/ctu_13[\"modelsize\"]\n",
    "    ctu_13[\"size_m\"] = ctu_13[\"size_m\"]/ctu_13[\"modelsize\"]\n",
    "    ctu_13[\"size_l\"] = ctu_13[\"size_l\"]/ctu_13[\"modelsize\"]\n",
    "    return ctu_13\n",
    "\n",
    "\n",
    "def remove_chars_until(df, k):\n",
    "    df[\"State\"] = df[\"State\"].apply(lambda x: x[k:])\n",
    "    return df\n",
    "\n",
    "\n",
    "def clean_ctu_13(df):\n",
    "    df[\"class\"] = df[\"class\"].apply(change_class)\n",
    "    df.drop([\"src\",\"dst\",\"port\",\"proto\",\"label\",\"modelsize\",\"State\"], axis=1, inplace=True)\n",
    "    df.dropna(inplace=True)\n",
    "    return df\n",
    "\n",
    "\n",
    "def prepare_resuls_for_plot(df):\n",
    "    df.drop(\"support\", axis=1, inplace=True)\n",
    "    df[\"Specificity\"] = df.iloc[0::2][\"recall\"]\n",
    "    df[\"Specificity\"] = df[\"Specificity\"].shift(1)\n",
    "    return df.iloc[1::2]\n",
    "\n",
    "\n",
    "def cut_string_until(df, k):\n",
    "    df[\"State\"] = df[\"State\"].apply(lambda x: x[:k])\n",
    "    return df"
   ]
  },
  {
   "cell_type": "code",
   "execution_count": 13,
   "metadata": {},
   "outputs": [
    {
     "data": {
      "text/plain": [
       "Text(0.5, 1.0, 'RF_ctu19_cut_string')"
      ]
     },
     "execution_count": 13,
     "metadata": {},
     "output_type": "execute_result"
    },
    {
     "data": {
      "image/png": "[encoded data removed]",
      "text/plain": [
       "<Figure size 720x432 with 1 Axes>"
      ]
     },
     "metadata": {
      "needs_background": "light"
     },
     "output_type": "display_data"
    }
   ],
   "source": [
    "#Read raw datasets\n",
    "ctu_13 = pd.read_csv(\"../Datasets/ctu-13.labeled.cleaned.csv\")\n",
    "ctu_19 = pd.read_csv(\"../Datasets/change_of_context/ctu19_to_test_RF.csv\")\n",
    "\n",
    "size_string = 10\n",
    "\n",
    "#Prepare ctu_13\n",
    "ctu_13 = (ctu_13.pipe(remove_chars_until,3)\n",
    "                .pipe(cut_string_until, 10)\n",
    "                .pipe(feature_vector)\n",
    "                .pipe(clean_ctu_13))\n",
    "\n",
    "#Prepare ctu_19\n",
    "ctu_19 = (ctu_19.pipe(rename_ctu19_string_col)\n",
    "                .pipe(cut_string_until, 10)\n",
    "                .pipe(feature_vector)\n",
    "                .pipe(drop_columns_ctu19))\n",
    "\n",
    "#10 runs for variability testing\n",
    "for i in range(10):\n",
    "    #Divide train-test dataset\n",
    "    x = ctu_13.drop('class',axis=1)\n",
    "    y = ctu_13['class']\n",
    "    X_train, X_test, y_train, y_test = train_test_split(x, y, test_size=0.2)\n",
    "    #Testing is now from ctu_19\n",
    "    X_test = ctu_19.drop('class',axis=1)\n",
    "    y_test = ctu_19['class']\n",
    "\n",
    "    #Training\n",
    "    rfc = RandomForestClassifier(n_estimators=100)\n",
    "    rfc.fit(X_train, y_train)\n",
    "\n",
    "    #Testing\n",
    "    rfc_pred = rfc.predict(X_test)\n",
    "    #print(confusion_matrix(y_test,rfc_pred))\n",
    "    #print(classification_report(y_test,rfc_pred))\n",
    "    \n",
    "    #Save results\n",
    "    report = classification_report(y_test,rfc_pred,\n",
    "            target_names=[\"normal\",\"botnet\"], digits=4, output_dict=True)\n",
    "    df = pd.DataFrame(report).transpose()\n",
    "    name = \"../Datasets/change_of_context/results_RF_cut_string_to_\"+str(size_string)+\".csv\"\n",
    "    if i == 0:\n",
    "        df.iloc[[0,1]].to_csv(name, index=False, header=True)\n",
    "    else:\n",
    "        df.iloc[[0,1]].to_csv(name ,index=False, mode=\"a\", header=False)\n",
    "        \n",
    "#Plot results\n",
    "df = pd.read_csv(name)\n",
    "df = (df.pipe(prepare_resuls_for_plot))\n",
    "fig, axes = plt.subplots(1, 1, figsize=(10,6), sharey=True)\n",
    "sns.boxplot(data=df.iloc[:,0:4], ax=axes)\n",
    "axes.set_title('RF_ctu19_cut_string',fontweight=\"bold\")"
   ]
  },
  {
   "cell_type": "code",
   "execution_count": null,
   "metadata": {},
   "outputs": [],
   "source": []
  },
  {
   "cell_type": "code",
   "execution_count": null,
   "metadata": {},
   "outputs": [],
   "source": []
  },
  {
   "cell_type": "code",
   "execution_count": null,
   "metadata": {},
   "outputs": [],
   "source": []
  },
  {
   "cell_type": "code",
   "execution_count": null,
   "metadata": {},
   "outputs": [],
   "source": []
  },
  {
   "cell_type": "code",
   "execution_count": null,
   "metadata": {},
   "outputs": [],
   "source": []
  },
  {
   "cell_type": "code",
   "execution_count": null,
   "metadata": {},
   "outputs": [],
   "source": []
  },
  {
   "cell_type": "code",
   "execution_count": null,
   "metadata": {},
   "outputs": [],
   "source": []
  },
  {
   "cell_type": "code",
   "execution_count": null,
   "metadata": {},
   "outputs": [],
   "source": []
  }
 ],
 "metadata": {
  "kernelspec": {
   "display_name": "Python 3",
   "language": "python",
   "name": "python3"
  },
  "language_info": {
   "codemirror_mode": {
    "name": "ipython",
    "version": 3
   },
   "file_extension": ".py",
   "mimetype": "text/x-python",
   "name": "python",
   "nbconvert_exporter": "python",
   "pygments_lexer": "ipython3",
   "version": "3.7.3"
  }
 },
 "nbformat": 4,
 "nbformat_minor": 4
}
