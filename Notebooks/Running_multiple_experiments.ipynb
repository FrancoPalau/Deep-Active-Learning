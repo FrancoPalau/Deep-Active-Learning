{
 "cells": [
  {
   "cell_type": "code",
   "execution_count": null,
   "metadata": {},
   "outputs": [],
   "source": [
    "name = \"./Random_pos/ctu13subs75_net.csv\"\n",
    "!python3 train_data_preparation.py --csv $name\n",
    "for i in range(0,10):\n",
    "    !python3 dga_classifier.py --save-model first_test_ctu13_cnn.h5\n",
    "    print(\"##--------------------------------------------------------------------##\")"
   ]
  },
  {
   "cell_type": "code",
   "execution_count": null,
   "metadata": {},
   "outputs": [],
   "source": [
    "for i in range(0,10):\n",
    "    name = \"./Random_pos/ctu_13_without_first_5_charc_and_rand_pos_maxlen25_run\"+str(i)+\".csv\"\n",
    "    !python3 train_data_preparation.py --csv $name\n",
    "    !python3 dga_classifier.py --save-model first_test_ctu13_cnn.h5\n",
    "    print(\"##--------------------------------------------------------------------##\")"
   ]
  }
 ],
 "metadata": {
  "kernelspec": {
   "display_name": "Python 3",
   "language": "python",
   "name": "python3"
  },
  "language_info": {
   "codemirror_mode": {
    "name": "ipython",
    "version": 3
   },
   "file_extension": ".py",
   "mimetype": "text/x-python",
   "name": "python",
   "nbconvert_exporter": "python",
   "pygments_lexer": "ipython3",
   "version": "3.7.3"
  }
 },
 "nbformat": 4,
 "nbformat_minor": 4
}
