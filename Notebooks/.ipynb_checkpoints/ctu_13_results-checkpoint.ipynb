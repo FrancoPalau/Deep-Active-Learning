{
 "cells": [
  {
   "cell_type": "markdown",
   "metadata": {},
   "source": [
    "## CTU RESULTS FROM EXPERIMENTS"
   ]
  },
  {
   "cell_type": "code",
   "execution_count": null,
   "metadata": {},
   "outputs": [],
   "source": []
  },
  {
   "cell_type": "markdown",
   "metadata": {},
   "source": [
    "Resultados CNN tunnel( 256 filtros + densa 256, batch=256,epochs=10) cortando en 1000 las cadenas\n",
    "\n",
    "```\n",
    "[[ 785   44]\n",
    " [ 112 1752]]\n",
    "              precision    recall  f1-score   support\n",
    "\n",
    "      normal     0.8751    0.9469    0.9096       829\n",
    "      botnet     0.9755    0.9399    0.9574      1864\n",
    "\n",
    "   micro avg     0.9421    0.9421    0.9421      2693\n",
    "   macro avg     0.9253    0.9434    0.9335      2693\n",
    "weighted avg     0.9446    0.9421    0.9427      2693\n",
    "\n",
    "TN:  785\n",
    "FP:  44\n",
    "FN:  112\n",
    "TP:  1752\n",
    "False Alarm Rate:  0.05307599517490953\n",
    "Precision Rate:  0.9755011135857461\n",
    "Recall Rate:  0.9399141630901288\n",
    "```"
   ]
  },
  {
   "cell_type": "markdown",
   "metadata": {},
   "source": [
    "Resultados LSTM woodbridge (batch=256, epochs=1) cortando en 1000 las cadenas\n",
    "```\n",
    "[[   5  824]\n",
    " [   0 1864]]\n",
    "              precision    recall  f1-score   support\n",
    "\n",
    "      normal     1.0000    0.0060    0.0120       829\n",
    "      botnet     0.6935    1.0000    0.8190      1864\n",
    "\n",
    "   micro avg     0.6940    0.6940    0.6940      2693\n",
    "   macro avg     0.8467    0.5030    0.4155      2693\n",
    "weighted avg     0.7878    0.6940    0.5706      2693\n",
    "\n",
    "TN:  5\n",
    "FP:  824\n",
    "FN:  0\n",
    "TP:  1864\n",
    "False Alarm Rate:  0.9939686369119421\n",
    "Precision Rate:  0.6934523809523809\n",
    "Recall Rate:  1.0\n",
    "```"
   ]
  },
  {
   "cell_type": "markdown",
   "metadata": {},
   "source": [
    "Resultados LSTM woodbridge + densa 256 (batch=256, epochs=1) cortando en 1000 las cadenas\n",
    "\n",
    "```\n",
    "[[   0  829]\n",
    " [   0 1864]]\n",
    "\n",
    "              precision    recall  f1-score   support\n",
    "\n",
    "      normal     0.0000    0.0000    0.0000       829\n",
    "      botnet     0.6922    1.0000    0.8181      1864\n",
    "\n",
    "   micro avg     0.6922    0.6922    0.6922      2693\n",
    "   macro avg     0.3461    0.5000    0.4090      2693\n",
    "weighted avg     0.4791    0.6922    0.5662      2693\n",
    "\n",
    "TN:  0\n",
    "FP:  829\n",
    "FN:  0\n",
    "TP:  1864\n",
    "False Alarm Rate:  1.0\n",
    "Precision Rate:  0.6921648718900854\n",
    "Recall Rate:  1.0\n",
    "```"
   ]
  },
  {
   "cell_type": "markdown",
   "metadata": {},
   "source": [
    "Resultados LSTM woodbridge (batch=256, epochs=10) cortando en 75 las cadenas\n",
    "```\n",
    "[[ 811   18]\n",
    " [ 371 1493]]\n",
    "              precision    recall  f1-score   support\n",
    "\n",
    "      normal     0.6861    0.9783    0.8066       829\n",
    "      botnet     0.9881    0.8010    0.8847      1864\n",
    "\n",
    "   micro avg     0.8556    0.8556    0.8556      2693\n",
    "   macro avg     0.8371    0.8896    0.8457      2693\n",
    "weighted avg     0.8951    0.8556    0.8607      2693\n",
    "\n",
    "TN:  811\n",
    "FP:  18\n",
    "FN:  371\n",
    "TP:  1493\n",
    "False Alarm Rate:  0.021712907117008445\n",
    "Precision Rate:  0.9880873593646592\n",
    "Recall Rate:  0.8009656652360515\n",
    "```"
   ]
  },
  {
   "cell_type": "markdown",
   "metadata": {},
   "source": [
    "Resultados LSTM woodbridge (batch=256, epochs=20) cortando en 75 las cadenas\n",
    "```\n",
    "[[ 671  158]\n",
    " [  91 1773]]\n",
    "              precision    recall  f1-score   support\n",
    "\n",
    "      normal     0.8806    0.8094    0.8435       829\n",
    "      botnet     0.9182    0.9512    0.9344      1864\n",
    "\n",
    "   micro avg     0.9075    0.9075    0.9075      2693\n",
    "   macro avg     0.8994    0.8803    0.8889      2693\n",
    "weighted avg     0.9066    0.9075    0.9064      2693\n",
    "\n",
    "TN:  671\n",
    "FP:  158\n",
    "FN:  91\n",
    "TP:  1773\n",
    "False Alarm Rate:  0.19059107358262967\n",
    "Precision Rate:  0.9181771103055412\n",
    "Recall Rate:  0.9511802575107297\n",
    "\n",
    "```"
   ]
  },
  {
   "cell_type": "markdown",
   "metadata": {},
   "source": [
    "Resultados LSTM woodbridge + densa 512 (batch=256, epochs=30) cortando en 75 las cadenas\n",
    "```\n",
    "[[ 771   58]\n",
    " [ 147 1717]]\n",
    "              precision    recall  f1-score   support\n",
    "\n",
    "      normal     0.8399    0.9300    0.8827       829\n",
    "      botnet     0.9673    0.9211    0.9437      1864\n",
    "\n",
    "   micro avg     0.9239    0.9239    0.9239      2693\n",
    "   macro avg     0.9036    0.9256    0.9132      2693\n",
    "weighted avg     0.9281    0.9239    0.9249      2693\n",
    "\n",
    "TN:  771\n",
    "FP:  58\n",
    "FN:  147\n",
    "TP:  1717\n",
    "False Alarm Rate:  0.06996381182147166\n",
    "Precision Rate:  0.9673239436619718\n",
    "Recall Rate:  0.921137339055794\n",
    "\n",
    "```"
   ]
  },
  {
   "cell_type": "markdown",
   "metadata": {},
   "source": [
    "Misma estructura que anterior pero cortando en 1000 las cadenas\n",
    "```\n",
    "[[  19  810]\n",
    " [   0 1864]]\n",
    "              precision    recall  f1-score   support\n",
    "\n",
    "      normal     1.0000    0.0229    0.0448       829\n",
    "      botnet     0.6971    1.0000    0.8215      1864\n",
    "\n",
    "   micro avg     0.6992    0.6992    0.6992      2693\n",
    "   macro avg     0.8485    0.5115    0.4332      2693\n",
    "weighted avg     0.7903    0.6992    0.5824      2693\n",
    "\n",
    "TN:  19\n",
    "FP:  810\n",
    "FN:  0\n",
    "TP:  1864\n",
    "False Alarm Rate:  0.97708082026538\n",
    "Precision Rate:  0.6970830216903515\n",
    "Recall Rate:  1.0\n",
    "```"
   ]
  },
  {
   "cell_type": "markdown",
   "metadata": {},
   "source": [
    "Misma estructura que anterior, cortando a los 1000 pero con Masking\n",
    "```\n",
    "[[ 745   84]\n",
    " [  86 1778]]\n",
    "              precision    recall  f1-score   support\n",
    "\n",
    "      normal     0.8965    0.8987    0.8976       829\n",
    "      botnet     0.9549    0.9539    0.9544      1864\n",
    "\n",
    "   micro avg     0.9369    0.9369    0.9369      2693\n",
    "   macro avg     0.9257    0.9263    0.9260      2693\n",
    "weighted avg     0.9369    0.9369    0.9369      2693\n",
    "\n",
    "TN:  745\n",
    "FP:  84\n",
    "FN:  86\n",
    "TP:  1778\n",
    "False Alarm Rate:  0.10132689987937274\n",
    "Precision Rate:  0.9548872180451128\n",
    "Recall Rate:  0.953862660944206\n",
    "\n",
    "```"
   ]
  },
  {
   "cell_type": "markdown",
   "metadata": {},
   "source": [
    "### RANDOM FOREST"
   ]
  },
  {
   "cell_type": "markdown",
   "metadata": {},
   "source": [
    "Random Forest, feature vector, cadenas completas\n",
    "```\n",
    "[[ 713   99]\n",
    " [ 109 1799]]\n",
    "\n",
    "              precision    recall  f1-score   support\n",
    "\n",
    "           0       0.87      0.88      0.87       812\n",
    "           1       0.95      0.94      0.95      1908\n",
    "\n",
    "    accuracy                           0.92      2720\n",
    "   macro avg       0.91      0.91      0.91      2720\n",
    "weighted avg       0.92      0.92      0.92      2720\n",
    "\n",
    "```"
   ]
  },
  {
   "cell_type": "markdown",
   "metadata": {},
   "source": [
    "Random Forest, feature vector, cadenas sin los primeros 5 caracteres\n",
    "```\n",
    "[[ 609  121]\n",
    " [  85 1201]]\n",
    "\n",
    "              precision    recall  f1-score   support\n",
    "\n",
    "           0       0.88      0.83      0.86       730\n",
    "           1       0.91      0.93      0.92      1286\n",
    "\n",
    "    accuracy                           0.90      2016\n",
    "   macro avg       0.89      0.88      0.89      2016\n",
    "weighted avg       0.90      0.90      0.90      2016\n",
    "\n",
    "\n",
    "```"
   ]
  },
  {
   "cell_type": "code",
   "execution_count": null,
   "metadata": {},
   "outputs": [],
   "source": []
  },
  {
   "cell_type": "code",
   "execution_count": null,
   "metadata": {},
   "outputs": [],
   "source": []
  },
  {
   "cell_type": "code",
   "execution_count": null,
   "metadata": {},
   "outputs": [],
   "source": []
  },
  {
   "cell_type": "code",
   "execution_count": null,
   "metadata": {},
   "outputs": [],
   "source": []
  },
  {
   "cell_type": "code",
   "execution_count": null,
   "metadata": {},
   "outputs": [],
   "source": []
  }
 ],
 "metadata": {
  "kernelspec": {
   "display_name": "Python 3",
   "language": "python",
   "name": "python3"
  },
  "language_info": {
   "codemirror_mode": {
    "name": "ipython",
    "version": 3
   },
   "file_extension": ".py",
   "mimetype": "text/x-python",
   "name": "python",
   "nbconvert_exporter": "python",
   "pygments_lexer": "ipython3",
   "version": "3.7.3"
  }
 },
 "nbformat": 4,
 "nbformat_minor": 4
}
