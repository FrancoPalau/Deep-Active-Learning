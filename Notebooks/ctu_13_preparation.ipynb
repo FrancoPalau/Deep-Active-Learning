{
 "cells": [
  {
   "cell_type": "code",
   "execution_count": 1,
   "metadata": {},
   "outputs": [],
   "source": [
    "import pandas as pd\n",
    "import numpy as np\n",
    "import matplotlib.pyplot as plt\n",
    "%matplotlib inline\n",
    "import seaborn as sns"
   ]
  },
  {
   "cell_type": "code",
   "execution_count": 31,
   "metadata": {},
   "outputs": [],
   "source": [
    "def change_class(x):\n",
    "    if x == \"botnet\":\n",
    "        return 1\n",
    "    elif x== \"normal\":\n",
    "        return 0\n",
    "\n",
    "    \n",
    "def deal_empty_string(df):    \n",
    "    df[\"domain\"] = df[\"domain\"].apply(lambda x: np.nan if x==\"\" else x)\n",
    "    return df\n",
    "\n",
    "\n",
    "def drop_rows_empty_string(df):\n",
    "    return df[df[\"domain\"] != \"\"]\n",
    "\n",
    "\n",
    "def remove_chars_until(df, k):\n",
    "    df[\"State\"] = df[\"State\"].apply(lambda x: x[k:])\n",
    "    return df\n",
    "\n",
    "\n",
    "def clean_ctu_13(df):\n",
    "    df[\"class\"] = df[\"class\"].apply(change_class)\n",
    "    df.drop([\"src\",\"dst\",\"port\",\"proto\",\"label\",\"modelsize\"], axis=1, inplace=True)\n",
    "    df.dropna(inplace=True)\n",
    "    return df\n",
    "\n",
    "\n",
    "def rename_string_col(df):\n",
    "    return df.rename({\"State\":\"domain\"}, axis=1)\n",
    "\n",
    "\n",
    "def save_df_as(df, file_name=\"default.csv\"):\n",
    "    file_name = \"../Datasets/change_of_context/\" + file_name\n",
    "    df.to_csv(file_name, index=False)"
   ]
  },
  {
   "cell_type": "code",
   "execution_count": 18,
   "metadata": {},
   "outputs": [],
   "source": [
    "ctu_13 = pd.read_csv(\"../Datasets/ctu-13.labeled.cleaned.csv\")"
   ]
  },
  {
   "cell_type": "code",
   "execution_count": 3,
   "metadata": {},
   "outputs": [
    {
     "data": {
      "text/html": [
       "<div>\n",
       "<style scoped>\n",
       "    .dataframe tbody tr th:only-of-type {\n",
       "        vertical-align: middle;\n",
       "    }\n",
       "\n",
       "    .dataframe tbody tr th {\n",
       "        vertical-align: top;\n",
       "    }\n",
       "\n",
       "    .dataframe thead th {\n",
       "        text-align: right;\n",
       "    }\n",
       "</style>\n",
       "<table border=\"1\" class=\"dataframe\">\n",
       "  <thead>\n",
       "    <tr style=\"text-align: right;\">\n",
       "      <th></th>\n",
       "      <th>src</th>\n",
       "      <th>dst</th>\n",
       "      <th>port</th>\n",
       "      <th>proto</th>\n",
       "      <th>State</th>\n",
       "      <th>label</th>\n",
       "      <th>class</th>\n",
       "      <th>modelsize</th>\n",
       "    </tr>\n",
       "  </thead>\n",
       "  <tbody>\n",
       "    <tr>\n",
       "      <th>0</th>\n",
       "      <td>147.32.84.134</td>\n",
       "      <td>147.32.192.34</td>\n",
       "      <td>993.0</td>\n",
       "      <td>tcp</td>\n",
       "      <td>990I0I*z*Z0I0</td>\n",
       "      <td>Normal-Jist</td>\n",
       "      <td>normal</td>\n",
       "      <td>13</td>\n",
       "    </tr>\n",
       "    <tr>\n",
       "      <th>1</th>\n",
       "      <td>147.32.84.134</td>\n",
       "      <td>147.32.80.9</td>\n",
       "      <td>53.0</td>\n",
       "      <td>udp</td>\n",
       "      <td>11.R.R.R.R.R.R.R.R.R.R.R.R.R.R.R.R.R.R.R.R.R.R...</td>\n",
       "      <td>Normal-Jist</td>\n",
       "      <td>normal</td>\n",
       "      <td>4879</td>\n",
       "    </tr>\n",
       "    <tr>\n",
       "      <th>2</th>\n",
       "      <td>147.32.84.134</td>\n",
       "      <td>173.194.16.96</td>\n",
       "      <td>80.0</td>\n",
       "      <td>tcp</td>\n",
       "      <td>96.F.</td>\n",
       "      <td>Normal-Jist</td>\n",
       "      <td>normal</td>\n",
       "      <td>5</td>\n",
       "    </tr>\n",
       "    <tr>\n",
       "      <th>3</th>\n",
       "      <td>147.32.84.134</td>\n",
       "      <td>193.41.230.73</td>\n",
       "      <td>80.0</td>\n",
       "      <td>tcp</td>\n",
       "      <td>66.Z.z.W.W.Z.Z.I.Z.Z.Z.Z.Z+W.F.Z.Z.z.Z.z.</td>\n",
       "      <td>Normal-Jist</td>\n",
       "      <td>normal</td>\n",
       "      <td>41</td>\n",
       "    </tr>\n",
       "    <tr>\n",
       "      <th>4</th>\n",
       "      <td>147.32.84.134</td>\n",
       "      <td>193.41.230.85</td>\n",
       "      <td>443.0</td>\n",
       "      <td>tcp</td>\n",
       "      <td>99.Z.z.Z.I.Z+</td>\n",
       "      <td>Normal-Jist</td>\n",
       "      <td>normal</td>\n",
       "      <td>13</td>\n",
       "    </tr>\n",
       "  </tbody>\n",
       "</table>\n",
       "</div>"
      ],
      "text/plain": [
       "             src            dst   port proto  \\\n",
       "0  147.32.84.134  147.32.192.34  993.0   tcp   \n",
       "1  147.32.84.134    147.32.80.9   53.0   udp   \n",
       "2  147.32.84.134  173.194.16.96   80.0   tcp   \n",
       "3  147.32.84.134  193.41.230.73   80.0   tcp   \n",
       "4  147.32.84.134  193.41.230.85  443.0   tcp   \n",
       "\n",
       "                                               State        label   class  \\\n",
       "0                                      990I0I*z*Z0I0  Normal-Jist  normal   \n",
       "1  11.R.R.R.R.R.R.R.R.R.R.R.R.R.R.R.R.R.R.R.R.R.R...  Normal-Jist  normal   \n",
       "2                                              96.F.  Normal-Jist  normal   \n",
       "3          66.Z.z.W.W.Z.Z.I.Z.Z.Z.Z.Z+W.F.Z.Z.z.Z.z.  Normal-Jist  normal   \n",
       "4                                      99.Z.z.Z.I.Z+  Normal-Jist  normal   \n",
       "\n",
       "   modelsize  \n",
       "0         13  \n",
       "1       4879  \n",
       "2          5  \n",
       "3         41  \n",
       "4         13  "
      ]
     },
     "execution_count": 3,
     "metadata": {},
     "output_type": "execute_result"
    }
   ],
   "source": [
    "ctu_13.head()"
   ]
  },
  {
   "cell_type": "code",
   "execution_count": 19,
   "metadata": {},
   "outputs": [
    {
     "data": {
      "text/plain": [
       "(9064, 8)"
      ]
     },
     "execution_count": 19,
     "metadata": {},
     "output_type": "execute_result"
    }
   ],
   "source": [
    "ctu_13.shape"
   ]
  },
  {
   "cell_type": "code",
   "execution_count": 23,
   "metadata": {},
   "outputs": [
    {
     "data": {
      "text/plain": [
       "(9064, 8)"
      ]
     },
     "execution_count": 23,
     "metadata": {},
     "output_type": "execute_result"
    }
   ],
   "source": [
    "ctu_13[ctu_13[\"State\"].str.len() > 3].shape"
   ]
  },
  {
   "cell_type": "code",
   "execution_count": 33,
   "metadata": {},
   "outputs": [],
   "source": [
    "(ctu_13.copy()\n",
    "     .pipe(remove_chars_until, 3)\n",
    "     .pipe(rename_string_col)\n",
    "     .pipe(drop_rows_empty_string)\n",
    "     .pipe(clean_ctu_13)\n",
    "     .pipe(save_df_as, \"ctu_13_for_LSTM.csv\"))"
   ]
  },
  {
   "cell_type": "code",
   "execution_count": null,
   "metadata": {},
   "outputs": [],
   "source": []
  }
 ],
 "metadata": {
  "kernelspec": {
   "display_name": "Python 3",
   "language": "python",
   "name": "python3"
  },
  "language_info": {
   "codemirror_mode": {
    "name": "ipython",
    "version": 3
   },
   "file_extension": ".py",
   "mimetype": "text/x-python",
   "name": "python",
   "nbconvert_exporter": "python",
   "pygments_lexer": "ipython3",
   "version": "3.7.3"
  }
 },
 "nbformat": 4,
 "nbformat_minor": 4
}
