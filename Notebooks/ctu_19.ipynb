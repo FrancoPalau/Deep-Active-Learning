{
 "cells": [
  {
   "cell_type": "code",
   "execution_count": 9,
   "metadata": {},
   "outputs": [],
   "source": [
    "import pandas as pd\n",
    "import numpy as np\n",
    "import matplotlib.pyplot as plt\n",
    "import seaborn as sns\n",
    "%matplotlib inline\n",
    "from random import randint"
   ]
  },
  {
   "cell_type": "code",
   "execution_count": 10,
   "metadata": {},
   "outputs": [],
   "source": [
    "def remove_no_used_col(df):\n",
    "    return df.drop([\"Unnamed: 0\", \"InitialIp\", \"EndIP\", \"Port\", \"Proto\"],\n",
    "           axis=1)\n",
    "\n",
    "\n",
    "def change_class(x):\n",
    "    if \"Botnet\" in x:\n",
    "        return 1\n",
    "    elif \"Normal\" in x:\n",
    "        return 0 \n",
    "\n",
    "    \n",
    "def rename_labels(df):\n",
    "    df[\"class\"] = df[\"LabelName\"].apply(change_class)\n",
    "    return df.drop([\"LabelName\"],axis=1)\n",
    "\n",
    "\n",
    "def rename_string_column(df):\n",
    "    return df.rename({\"State\":\"domain\"},axis=1)\n",
    "\n",
    "\n",
    "def remove_chars_until(df, k):\n",
    "    df[\"domain\"] = df[\"domain\"].apply(lambda x: x[k:])\n",
    "    return df\n",
    "\n",
    "\n",
    "def drop_rows_empty_string(df):\n",
    "    return df[df[\"domain\"] != \"\"]\n",
    "\n",
    "\n",
    "def save_df_as(df, file_name=\"test.csv\"):\n",
    "    file_name = \"../Datasets/change_of_context/\" + file_name\n",
    "    df.to_csv(file_name, index=False)\n",
    "    \n",
    "    \n",
    "def calculate_modelsize(df):\n",
    "    df[\"modelsize\"] = df[\"domain\"].apply(lambda x: len(x))\n",
    "    return df\n",
    "\n",
    "\n",
    "def deal_empty_string(df):    \n",
    "    df[\"domain\"] = df[\"domain\"].apply(lambda x: np.nan if x==\"\" else x)\n",
    "    df.dropna(inplace=True)\n",
    "    return df\n",
    "\n",
    "\n",
    "def random_position_string(x, maxlen):\n",
    "    if len(x)<= maxlen:\n",
    "        return x\n",
    "    rand_pos = randint(0,len(x)-maxlen)\n",
    "    return x[rand_pos:rand_pos+maxlen]\n",
    "\n",
    "\n",
    "def select_random_string_size_of(df, maxlen):\n",
    "    df[\"domain\"] = df[\"domain\"].apply(random_position_string, maxlen=maxlen)\n",
    "    return df"
   ]
  },
  {
   "cell_type": "code",
   "execution_count": 11,
   "metadata": {},
   "outputs": [],
   "source": [
    "ctu19 = pd.read_csv(\"../Datasets/ctu19_result.csv\")"
   ]
  },
  {
   "cell_type": "code",
   "execution_count": 4,
   "metadata": {},
   "outputs": [
    {
     "data": {
      "text/html": [
       "<div>\n",
       "<style scoped>\n",
       "    .dataframe tbody tr th:only-of-type {\n",
       "        vertical-align: middle;\n",
       "    }\n",
       "\n",
       "    .dataframe tbody tr th {\n",
       "        vertical-align: top;\n",
       "    }\n",
       "\n",
       "    .dataframe thead th {\n",
       "        text-align: right;\n",
       "    }\n",
       "</style>\n",
       "<table border=\"1\" class=\"dataframe\">\n",
       "  <thead>\n",
       "    <tr style=\"text-align: right;\">\n",
       "      <th></th>\n",
       "      <th>Unnamed: 0</th>\n",
       "      <th>InitialIp</th>\n",
       "      <th>EndIP</th>\n",
       "      <th>Port</th>\n",
       "      <th>Proto</th>\n",
       "      <th>State</th>\n",
       "      <th>LabelName</th>\n",
       "    </tr>\n",
       "  </thead>\n",
       "  <tbody>\n",
       "    <tr>\n",
       "      <th>0</th>\n",
       "      <td>0</td>\n",
       "      <td>0.0.0.0</td>\n",
       "      <td>10.0.2.112</td>\n",
       "      <td>NaN</td>\n",
       "      <td>arp</td>\n",
       "      <td>2</td>\n",
       "      <td>Botnet</td>\n",
       "    </tr>\n",
       "    <tr>\n",
       "      <th>1</th>\n",
       "      <td>1</td>\n",
       "      <td>00:00:00:00:00:00</td>\n",
       "      <td>00:00:00:00:00:00</td>\n",
       "      <td>NaN</td>\n",
       "      <td>llc</td>\n",
       "      <td>1</td>\n",
       "      <td>Botnet</td>\n",
       "    </tr>\n",
       "    <tr>\n",
       "      <th>2</th>\n",
       "      <td>2</td>\n",
       "      <td>10.0.2.112</td>\n",
       "      <td>1.143.41.48</td>\n",
       "      <td>4451</td>\n",
       "      <td>udp</td>\n",
       "      <td>1</td>\n",
       "      <td>Botnet</td>\n",
       "    </tr>\n",
       "    <tr>\n",
       "      <th>3</th>\n",
       "      <td>3</td>\n",
       "      <td>10.0.2.112</td>\n",
       "      <td>1.161.56.125</td>\n",
       "      <td>4692</td>\n",
       "      <td>udp</td>\n",
       "      <td>960F0f0f0f0c0</td>\n",
       "      <td>Botnet</td>\n",
       "    </tr>\n",
       "    <tr>\n",
       "      <th>4</th>\n",
       "      <td>4</td>\n",
       "      <td>10.0.2.112</td>\n",
       "      <td>1.34.140.54</td>\n",
       "      <td>1016</td>\n",
       "      <td>udp</td>\n",
       "      <td>1</td>\n",
       "      <td>Botnet</td>\n",
       "    </tr>\n",
       "    <tr>\n",
       "      <th>5</th>\n",
       "      <td>5</td>\n",
       "      <td>10.0.2.112</td>\n",
       "      <td>1.34.176.189</td>\n",
       "      <td>25</td>\n",
       "      <td>tcp</td>\n",
       "      <td>88*Y,Y0y*y*y*H*y*Y*H*Y+Y*y*y*y*y*Y0Y*Y+Y*y*y*y...</td>\n",
       "      <td>Botnet</td>\n",
       "    </tr>\n",
       "    <tr>\n",
       "      <th>6</th>\n",
       "      <td>6</td>\n",
       "      <td>10.0.2.112</td>\n",
       "      <td>1.34.176.189</td>\n",
       "      <td>80</td>\n",
       "      <td>tcp</td>\n",
       "      <td>22,b,S*S,b,S*S,b,S*S,b,S*S,b,S*S,b,S*S,b,S*S,b...</td>\n",
       "      <td>Botnet</td>\n",
       "    </tr>\n",
       "    <tr>\n",
       "      <th>7</th>\n",
       "      <td>7</td>\n",
       "      <td>10.0.2.112</td>\n",
       "      <td>1.34.231.77</td>\n",
       "      <td>25</td>\n",
       "      <td>tcp</td>\n",
       "      <td>88,Z*y00Y.Y*Y0H0h0Y+Y000Y*Y0y*Y,Y*Y*y*Y0y*y*h*...</td>\n",
       "      <td>Botnet</td>\n",
       "    </tr>\n",
       "    <tr>\n",
       "      <th>8</th>\n",
       "      <td>8</td>\n",
       "      <td>10.0.2.112</td>\n",
       "      <td>1.34.231.77</td>\n",
       "      <td>80</td>\n",
       "      <td>tcp</td>\n",
       "      <td>93,z+w,I,w,S*Z,z,Z00000Z,Z0Z,z,Z*Z,I,Z0W,z,z,W...</td>\n",
       "      <td>Botnet</td>\n",
       "    </tr>\n",
       "    <tr>\n",
       "      <th>9</th>\n",
       "      <td>9</td>\n",
       "      <td>10.0.2.112</td>\n",
       "      <td>1.4.173.240</td>\n",
       "      <td>7661</td>\n",
       "      <td>udp</td>\n",
       "      <td>4</td>\n",
       "      <td>Botnet</td>\n",
       "    </tr>\n",
       "  </tbody>\n",
       "</table>\n",
       "</div>"
      ],
      "text/plain": [
       "   Unnamed: 0          InitialIp              EndIP  Port Proto  \\\n",
       "0           0            0.0.0.0         10.0.2.112   NaN   arp   \n",
       "1           1  00:00:00:00:00:00  00:00:00:00:00:00   NaN   llc   \n",
       "2           2         10.0.2.112        1.143.41.48  4451   udp   \n",
       "3           3         10.0.2.112       1.161.56.125  4692   udp   \n",
       "4           4         10.0.2.112        1.34.140.54  1016   udp   \n",
       "5           5         10.0.2.112       1.34.176.189    25   tcp   \n",
       "6           6         10.0.2.112       1.34.176.189    80   tcp   \n",
       "7           7         10.0.2.112        1.34.231.77    25   tcp   \n",
       "8           8         10.0.2.112        1.34.231.77    80   tcp   \n",
       "9           9         10.0.2.112        1.4.173.240  7661   udp   \n",
       "\n",
       "                                               State LabelName  \n",
       "0                                                  2    Botnet  \n",
       "1                                                  1    Botnet  \n",
       "2                                                  1    Botnet  \n",
       "3                                      960F0f0f0f0c0    Botnet  \n",
       "4                                                  1    Botnet  \n",
       "5  88*Y,Y0y*y*y*H*y*Y*H*Y+Y*y*y*y*y*Y0Y*Y+Y*y*y*y...    Botnet  \n",
       "6  22,b,S*S,b,S*S,b,S*S,b,S*S,b,S*S,b,S*S,b,S*S,b...    Botnet  \n",
       "7  88,Z*y00Y.Y*Y0H0h0Y+Y000Y*Y0y*Y,Y*Y*y*Y0y*y*h*...    Botnet  \n",
       "8  93,z+w,I,w,S*Z,z,Z00000Z,Z0Z,z,Z*Z,I,Z0W,z,z,W...    Botnet  \n",
       "9                                                  4    Botnet  "
      ]
     },
     "execution_count": 4,
     "metadata": {},
     "output_type": "execute_result"
    }
   ],
   "source": [
    "ctu19.head(10)"
   ]
  },
  {
   "cell_type": "code",
   "execution_count": 5,
   "metadata": {},
   "outputs": [
    {
     "name": "stdout",
     "output_type": "stream",
     "text": [
      "<class 'pandas.core.frame.DataFrame'>\n",
      "RangeIndex: 72463 entries, 0 to 72462\n",
      "Data columns (total 7 columns):\n",
      "Unnamed: 0    72463 non-null int64\n",
      "InitialIp     72463 non-null object\n",
      "EndIP         72463 non-null object\n",
      "Port          72229 non-null object\n",
      "Proto         72463 non-null object\n",
      "State         72463 non-null object\n",
      "LabelName     72463 non-null object\n",
      "dtypes: int64(1), object(6)\n",
      "memory usage: 3.9+ MB\n"
     ]
    }
   ],
   "source": [
    "ctu19.info()"
   ]
  },
  {
   "cell_type": "code",
   "execution_count": 6,
   "metadata": {},
   "outputs": [
    {
     "data": {
      "text/plain": [
       "Botnet    67551\n",
       "Normal     4912\n",
       "Name: LabelName, dtype: int64"
      ]
     },
     "execution_count": 6,
     "metadata": {},
     "output_type": "execute_result"
    }
   ],
   "source": [
    "ctu19[\"LabelName\"].value_counts()"
   ]
  },
  {
   "cell_type": "code",
   "execution_count": 7,
   "metadata": {},
   "outputs": [
    {
     "data": {
      "text/plain": [
       "(27545, 7)"
      ]
     },
     "execution_count": 7,
     "metadata": {},
     "output_type": "execute_result"
    }
   ],
   "source": [
    "ctu19[ctu19[\"State\"].str.len() > 3].shape"
   ]
  },
  {
   "cell_type": "code",
   "execution_count": 10,
   "metadata": {},
   "outputs": [
    {
     "data": {
      "text/plain": [
       "(27545, 3)"
      ]
     },
     "execution_count": 10,
     "metadata": {},
     "output_type": "execute_result"
    }
   ],
   "source": [
    "(ctu19.copy()\n",
    "     .pipe(remove_no_used_col)\n",
    "     .pipe(rename_labels)\n",
    "     .pipe(rename_string_column)\n",
    "     .pipe(remove_chars_until, 3)\n",
    "     .pipe(drop_rows_empty_string)\n",
    "     .pipe(calculate_modelsize)\n",
    "     .pipe(save_df_as, \"ctu19_to_test_RF.csv\"))"
   ]
  },
  {
   "cell_type": "code",
   "execution_count": 14,
   "metadata": {},
   "outputs": [],
   "source": [
    "sizes_string = [10, 25, 75]\n",
    "\n",
    "for maxlen in sizes_string:\n",
    "    (ctu19.copy()\n",
    "         .pipe(remove_no_used_col)\n",
    "         .pipe(rename_labels)\n",
    "         .pipe(rename_string_column)\n",
    "         .pipe(remove_chars_until, 3)\n",
    "         .pipe(drop_rows_empty_string)\n",
    "         .pipe(select_random_string_size_of, maxlen)\n",
    "         .pipe(save_df_as, \"ctu19_for_LSTM_random_pos_size_\" + str(maxlen) + \".csv\"))"
   ]
  },
  {
   "cell_type": "code",
   "execution_count": null,
   "metadata": {},
   "outputs": [],
   "source": []
  },
  {
   "cell_type": "code",
   "execution_count": null,
   "metadata": {},
   "outputs": [],
   "source": []
  },
  {
   "cell_type": "code",
   "execution_count": null,
   "metadata": {},
   "outputs": [],
   "source": []
  }
 ],
 "metadata": {
  "kernelspec": {
   "display_name": "Python 3",
   "language": "python",
   "name": "python3"
  },
  "language_info": {
   "codemirror_mode": {
    "name": "ipython",
    "version": 3
   },
   "file_extension": ".py",
   "mimetype": "text/x-python",
   "name": "python",
   "nbconvert_exporter": "python",
   "pygments_lexer": "ipython3",
   "version": "3.7.3"
  }
 },
 "nbformat": 4,
 "nbformat_minor": 4
}
