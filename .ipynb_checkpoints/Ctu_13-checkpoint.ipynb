{
 "cells": [
  {
   "cell_type": "code",
   "execution_count": 1,
   "metadata": {},
   "outputs": [],
   "source": [
    "import pandas as pd\n",
    "import numpy as np\n",
    "import matplotlib.pyplot as plt\n",
    "%matplotlib inline\n",
    "import seaborn as sns"
   ]
  },
  {
   "cell_type": "code",
   "execution_count": 2,
   "metadata": {},
   "outputs": [],
   "source": [
    "ctu_13 = pd.read_csv(\"./Datasets/ctu-13.labeled.cleaned.csv\")"
   ]
  },
  {
   "cell_type": "code",
   "execution_count": 3,
   "metadata": {},
   "outputs": [
    {
     "data": {
      "text/html": [
       "<div>\n",
       "<style scoped>\n",
       "    .dataframe tbody tr th:only-of-type {\n",
       "        vertical-align: middle;\n",
       "    }\n",
       "\n",
       "    .dataframe tbody tr th {\n",
       "        vertical-align: top;\n",
       "    }\n",
       "\n",
       "    .dataframe thead th {\n",
       "        text-align: right;\n",
       "    }\n",
       "</style>\n",
       "<table border=\"1\" class=\"dataframe\">\n",
       "  <thead>\n",
       "    <tr style=\"text-align: right;\">\n",
       "      <th></th>\n",
       "      <th>src</th>\n",
       "      <th>dst</th>\n",
       "      <th>port</th>\n",
       "      <th>proto</th>\n",
       "      <th>State</th>\n",
       "      <th>label</th>\n",
       "      <th>class</th>\n",
       "      <th>modelsize</th>\n",
       "    </tr>\n",
       "  </thead>\n",
       "  <tbody>\n",
       "    <tr>\n",
       "      <th>0</th>\n",
       "      <td>147.32.84.134</td>\n",
       "      <td>147.32.192.34</td>\n",
       "      <td>993.0</td>\n",
       "      <td>tcp</td>\n",
       "      <td>990I0I*z*Z0I0</td>\n",
       "      <td>Normal-Jist</td>\n",
       "      <td>normal</td>\n",
       "      <td>13</td>\n",
       "    </tr>\n",
       "    <tr>\n",
       "      <th>1</th>\n",
       "      <td>147.32.84.134</td>\n",
       "      <td>147.32.80.9</td>\n",
       "      <td>53.0</td>\n",
       "      <td>udp</td>\n",
       "      <td>11.R.R.R.R.R.R.R.R.R.R.R.R.R.R.R.R.R.R.R.R.R.R...</td>\n",
       "      <td>Normal-Jist</td>\n",
       "      <td>normal</td>\n",
       "      <td>4879</td>\n",
       "    </tr>\n",
       "    <tr>\n",
       "      <th>2</th>\n",
       "      <td>147.32.84.134</td>\n",
       "      <td>173.194.16.96</td>\n",
       "      <td>80.0</td>\n",
       "      <td>tcp</td>\n",
       "      <td>96.F.</td>\n",
       "      <td>Normal-Jist</td>\n",
       "      <td>normal</td>\n",
       "      <td>5</td>\n",
       "    </tr>\n",
       "    <tr>\n",
       "      <th>3</th>\n",
       "      <td>147.32.84.134</td>\n",
       "      <td>193.41.230.73</td>\n",
       "      <td>80.0</td>\n",
       "      <td>tcp</td>\n",
       "      <td>66.Z.z.W.W.Z.Z.I.Z.Z.Z.Z.Z+W.F.Z.Z.z.Z.z.</td>\n",
       "      <td>Normal-Jist</td>\n",
       "      <td>normal</td>\n",
       "      <td>41</td>\n",
       "    </tr>\n",
       "    <tr>\n",
       "      <th>4</th>\n",
       "      <td>147.32.84.134</td>\n",
       "      <td>193.41.230.85</td>\n",
       "      <td>443.0</td>\n",
       "      <td>tcp</td>\n",
       "      <td>99.Z.z.Z.I.Z+</td>\n",
       "      <td>Normal-Jist</td>\n",
       "      <td>normal</td>\n",
       "      <td>13</td>\n",
       "    </tr>\n",
       "  </tbody>\n",
       "</table>\n",
       "</div>"
      ],
      "text/plain": [
       "             src            dst   port proto  \\\n",
       "0  147.32.84.134  147.32.192.34  993.0   tcp   \n",
       "1  147.32.84.134    147.32.80.9   53.0   udp   \n",
       "2  147.32.84.134  173.194.16.96   80.0   tcp   \n",
       "3  147.32.84.134  193.41.230.73   80.0   tcp   \n",
       "4  147.32.84.134  193.41.230.85  443.0   tcp   \n",
       "\n",
       "                                               State        label   class  \\\n",
       "0                                      990I0I*z*Z0I0  Normal-Jist  normal   \n",
       "1  11.R.R.R.R.R.R.R.R.R.R.R.R.R.R.R.R.R.R.R.R.R.R...  Normal-Jist  normal   \n",
       "2                                              96.F.  Normal-Jist  normal   \n",
       "3          66.Z.z.W.W.Z.Z.I.Z.Z.Z.Z.Z+W.F.Z.Z.z.Z.z.  Normal-Jist  normal   \n",
       "4                                      99.Z.z.Z.I.Z+  Normal-Jist  normal   \n",
       "\n",
       "   modelsize  \n",
       "0         13  \n",
       "1       4879  \n",
       "2          5  \n",
       "3         41  \n",
       "4         13  "
      ]
     },
     "execution_count": 3,
     "metadata": {},
     "output_type": "execute_result"
    }
   ],
   "source": [
    "ctu_13.head()"
   ]
  },
  {
   "cell_type": "code",
   "execution_count": 4,
   "metadata": {},
   "outputs": [
    {
     "data": {
      "text/plain": [
       "botnet    6274\n",
       "normal    2790\n",
       "Name: class, dtype: int64"
      ]
     },
     "execution_count": 4,
     "metadata": {},
     "output_type": "execute_result"
    }
   ],
   "source": [
    "ctu_13[\"class\"].value_counts()"
   ]
  },
  {
   "cell_type": "code",
   "execution_count": 5,
   "metadata": {},
   "outputs": [
    {
     "data": {
      "text/plain": [
       "Botnet-TCP-Attempt-SPAM                                      4338\n",
       "Normal-Stribrek                                              1009\n",
       "Normal-Jist                                                   913\n",
       "Normal-Grill                                                  768\n",
       "Botnet-TCP-Established-HTTP-Ad                                487\n",
       "Botnet-TCP-WEB-Established                                    378\n",
       "Botnet-UDP-DNS                                                312\n",
       "Botnet-TCP-WEB-Established-SSL                                210\n",
       "Botnet-UDP-Attempt-DNS                                         74\n",
       "Botnet-TCP-CC-HTTP-Not-Encrypted                               71\n",
       "Normal-UDP-NTP-server                                          67\n",
       "Botnet-TCP-Established-SSL-Microsoft                           58\n",
       "Botnet-TCP-HTTP-Google-Net-Established                         50\n",
       "Botnet-TCP-Established-SPAM                                    49\n",
       "Botnet-TCP-CC-Plain-HTTP-Encrypted-Data                        38\n",
       "Botnet-TCP-Established-HTTP-Ad-yieldmanager                    25\n",
       "Botnet-UDP-Attempt                                             24\n",
       "Botnet-UDP-Established-Custom-Encryption                       23\n",
       "Normal-CVUT-WebServer                                          19\n",
       "Botnet-TCP-Established-HTTP-Binary-Download                    19\n",
       "Botnet-TCP-Established                                         18\n",
       "Botnet-TCP-Established-HTTP-Microsoft                          15\n",
       "Botnet-TCP-Established-Custom-Encryption                       15\n",
       "Botnet-TCP-Not-Encrypted-SMTP-Private-Proxy                    14\n",
       "Normal-HTTP-windowsupdate                                      12\n",
       "Botnet-UDP-Custom-Encryption                                   10\n",
       "Botnet-TCP-Established-HTTP-Adobe                               9\n",
       "Botnet-UDP-CC-Established-P2P-Not-Encrypted                     6\n",
       "Botnet-TCP-CC-Custom-Encryption                                 5\n",
       "Botnet-TCP-HTTP-Persistent-Down                                 5\n",
       "Botnet-TCP-HTTP-Not-Encrypted-Down                              5\n",
       "Botnet-UDP-Established                                          4\n",
       "Botnet-TCP-Established-HTTP-Microsoft-Live                      3\n",
       "Botnet-TCP-CC-Not-Encrypted                                     2\n",
       "Normal-MatLab-Server                                            2\n",
       "Botnet-TCP-Established-HTTP-Binary-Download-Custom-Port         2\n",
       "Botnet-TCP-CC-IRC-Not-Encrypted                                 1\n",
       "Botnet-TCP-CC-HTTP-Custom-Port-Not-Encrypted-Non-Periodic       1\n",
       "Botnet-TCP-Established-AVG                                      1\n",
       "Botnet-TCP-CC-HTTP-Custom-Encryption                            1\n",
       "Botnet-TCP-CC-HTTP-Custom-Port-Not-Encrypted                    1\n",
       "Name: label, dtype: int64"
      ]
     },
     "execution_count": 5,
     "metadata": {},
     "output_type": "execute_result"
    }
   ],
   "source": [
    "ctu_13[\"label\"].value_counts()"
   ]
  },
  {
   "cell_type": "code",
   "execution_count": null,
   "metadata": {},
   "outputs": [],
   "source": []
  },
  {
   "cell_type": "code",
   "execution_count": 6,
   "metadata": {},
   "outputs": [],
   "source": [
    "def change_class(x):\n",
    "    if x == \"botnet\":\n",
    "        return 1\n",
    "    elif x== \"normal\":\n",
    "        return 0\n"
   ]
  },
  {
   "cell_type": "code",
   "execution_count": 7,
   "metadata": {},
   "outputs": [],
   "source": [
    "ctu_13[\"class\"] = ctu_13[\"class\"].apply(change_class)"
   ]
  },
  {
   "cell_type": "code",
   "execution_count": 8,
   "metadata": {},
   "outputs": [
    {
     "data": {
      "text/plain": [
       "1    6274\n",
       "0    2790\n",
       "Name: class, dtype: int64"
      ]
     },
     "execution_count": 8,
     "metadata": {},
     "output_type": "execute_result"
    }
   ],
   "source": [
    "ctu_13[\"class\"].value_counts()"
   ]
  },
  {
   "cell_type": "code",
   "execution_count": 9,
   "metadata": {},
   "outputs": [
    {
     "data": {
      "text/plain": [
       "715         1\n",
       "1843        1\n",
       "1979        1\n",
       "68          1\n",
       "92          1\n",
       "108         1\n",
       "260         1\n",
       "6743        1\n",
       "2829        1\n",
       "11185       1\n",
       "3245        1\n",
       "7847        1\n",
       "7959        1\n",
       "8039        1\n",
       "173         1\n",
       "221         1\n",
       "237         1\n",
       "261         1\n",
       "277         1\n",
       "293         1\n",
       "333         1\n",
       "389         1\n",
       "397         1\n",
       "405         1\n",
       "429         1\n",
       "485         1\n",
       "1811        1\n",
       "1539        1\n",
       "5473        1\n",
       "1315        1\n",
       "         ... \n",
       "59         32\n",
       "61         35\n",
       "53         36\n",
       "57         38\n",
       "45         40\n",
       "43         41\n",
       "49         42\n",
       "51         48\n",
       "47         58\n",
       "39         74\n",
       "37         75\n",
       "41         81\n",
       "35         86\n",
       "29        103\n",
       "31        105\n",
       "33        118\n",
       "8         122\n",
       "25        127\n",
       "27        131\n",
       "21        152\n",
       "23        166\n",
       "19        177\n",
       "6         187\n",
       "17        218\n",
       "15        303\n",
       "13        364\n",
       "11        737\n",
       "9         760\n",
       "7        1225\n",
       "5        2344\n",
       "Name: State, Length: 359, dtype: int64"
      ]
     },
     "execution_count": 9,
     "metadata": {},
     "output_type": "execute_result"
    }
   ],
   "source": [
    "ctu_13[\"State\"].str.len().value_counts(ascending = True)"
   ]
  },
  {
   "cell_type": "code",
   "execution_count": 19,
   "metadata": {},
   "outputs": [],
   "source": [
    "ctu_13.rename(columns={\"State\":\"domain\"}, inplace=True)"
   ]
  },
  {
   "cell_type": "code",
   "execution_count": 22,
   "metadata": {},
   "outputs": [],
   "source": [
    "ctu_13.drop([\"src\",\"dst\",\"port\",\"proto\",\"label\",\"modelsize\"], axis=1, inplace=True)"
   ]
  },
  {
   "cell_type": "code",
   "execution_count": 24,
   "metadata": {},
   "outputs": [],
   "source": [
    "ctu_13.to_csv(\"ctu_13_for_cnn_test.csv\", index=False)"
   ]
  },
  {
   "cell_type": "code",
   "execution_count": null,
   "metadata": {},
   "outputs": [],
   "source": []
  },
  {
   "cell_type": "markdown",
   "metadata": {},
   "source": [
    "[[ 740   89]\n",
    " [  93 1771]]\n",
    "              precision    recall  f1-score   support\n",
    "\n",
    "      normal     0.8884    0.8926    0.8905       829\n",
    "      botnet     0.9522    0.9501    0.9511      1864\n",
    "\n",
    "   micro avg     0.9324    0.9324    0.9324      2693\n",
    "   macro avg     0.9203    0.9214    0.9208      2693\n",
    "weighted avg     0.9325    0.9324    0.9325      2693\n",
    "\n",
    "TN:  740\n",
    "FP:  89\n",
    "FN:  93\n",
    "TP:  1771\n",
    "False Alarm Rate:  0.10735826296743065\n",
    "Precision Rate:  0.9521505376344086\n",
    "Recall Rate:  0.950107296137339\n",
    "\n",
    "Con CNN igual a tunnel_model (pero con 256 filtros) y cortando las candenas con 200 caracteres, y a batch=20"
   ]
  },
  {
   "cell_type": "code",
   "execution_count": null,
   "metadata": {},
   "outputs": [],
   "source": []
  },
  {
   "cell_type": "code",
   "execution_count": null,
   "metadata": {},
   "outputs": [],
   "source": []
  },
  {
   "cell_type": "code",
   "execution_count": null,
   "metadata": {},
   "outputs": [],
   "source": []
  }
 ],
 "metadata": {
  "kernelspec": {
   "display_name": "Python 3",
   "language": "python",
   "name": "python3"
  },
  "language_info": {
   "codemirror_mode": {
    "name": "ipython",
    "version": 3
   },
   "file_extension": ".py",
   "mimetype": "text/x-python",
   "name": "python",
   "nbconvert_exporter": "python",
   "pygments_lexer": "ipython3",
   "version": "3.7.3"
  }
 },
 "nbformat": 4,
 "nbformat_minor": 4
}
